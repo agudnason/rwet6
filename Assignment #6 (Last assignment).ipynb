{
 "cells": [
  {
   "cell_type": "code",
   "execution_count": 46,
   "metadata": {},
   "outputs": [],
   "source": [
    "import spacy\n",
    "import random"
   ]
  },
  {
   "cell_type": "code",
   "execution_count": 47,
   "metadata": {},
   "outputs": [],
   "source": [
    "nlp = spacy.load('en_core_web_md')"
   ]
  },
  {
   "cell_type": "code",
   "execution_count": 48,
   "metadata": {},
   "outputs": [
    {
     "name": "stdout",
     "output_type": "stream",
     "text": [
      "Requirement already satisfied: simpleneighbors in /anaconda3/lib/python3.6/site-packages (0.0.1)\r\n",
      "Requirement already satisfied: annoy in /anaconda3/lib/python3.6/site-packages (from simpleneighbors) (1.15.1)\r\n"
     ]
    }
   ],
   "source": [
    "!pip install simpleneighbors"
   ]
  },
  {
   "cell_type": "code",
   "execution_count": 49,
   "metadata": {},
   "outputs": [],
   "source": [
    "from simpleneighbors import SimpleNeighbors"
   ]
  },
  {
   "cell_type": "code",
   "execution_count": 50,
   "metadata": {},
   "outputs": [],
   "source": [
    "lookup = SimpleNeighbors(300)\n",
    "for item in nlp.vocab:\n",
    "    if item.has_vector and item.prob > -15 and item.is_lower:\n",
    "        lookup.add_one(item.text, item.vector)\n",
    "lookup.build()"
   ]
  },
  {
   "cell_type": "code",
   "execution_count": 51,
   "metadata": {},
   "outputs": [],
   "source": [
    "def vec(s):\n",
    "    return nlp.vocab[s].vector"
   ]
  },
  {
   "cell_type": "code",
   "execution_count": 52,
   "metadata": {},
   "outputs": [
    {
     "data": {
      "text/plain": [
       "['volleyball',\n",
       " 'lacrosse',\n",
       " 'basketball',\n",
       " 'bball',\n",
       " 'football',\n",
       " 'footballing',\n",
       " 'handball',\n",
       " 'soccer',\n",
       " 'softball',\n",
       " 'baseball',\n",
       " 'hockey',\n",
       " 'racket']"
      ]
     },
     "execution_count": 52,
     "metadata": {},
     "output_type": "execute_result"
    }
   ],
   "source": [
    "lookup.nearest(vec('basketball'))"
   ]
  },
  {
   "cell_type": "code",
   "execution_count": 53,
   "metadata": {},
   "outputs": [],
   "source": [
    "lonelyplanet_doc = nlp(open(\"lonelyplanet.txt\").read())"
   ]
  },
  {
   "cell_type": "code",
   "execution_count": 54,
   "metadata": {},
   "outputs": [
    {
     "name": "stdout",
     "output_type": "stream",
     "text": [
      "The Met, MoMA and the Guggenheim these just the commence of a racked list of collage-world icon. You’ll locating museums devoted to anything from fin de siècle Vienna to renaissance europe treasures, and vast galleries laced with japanese paintings, nihilism america watercolor, egyptian fabric and New York City folklore. For a revealing of initial and future legends, workings into the slashes-edge pics of Chelsea and the Lower East Side, with their celebrations closing-night agreements (usually Thursday nights if you you to joining in), or face to recent locality in Brooklyn and Queens.\n",
      "\n",
      "With its compact watermark and streets plenty with eye lollipop of all assorted – architectures glory, Old World shop, temperatures marketers – NYC is a wandering’s relish. roundabout continents has as quick as stroll a some avenue in this unfocused cities of 200-plus nationalities. You you losing yourself in the spectators of Chinatown amid brightly Buddhist ancients and boiling chow shops, then stroll up to Nolita for tempt shops and coffee wines. Every neighborhood offers a dramatically other release of the cities, from the 100-year-old rabbi appetizers of the Upper West Side to the ramble driveways roundabouts of Greenwich Village. And the best it to experiences it is to walk has alleys.\n",
      "\n",
      "When the sun sinks slowly beyond the Hudson and glowing towers fixture up the night, New York transform into one royal stage. Well-as presenters take to the famed showings of Broadway and globe-school symphony, jive and composers perform at venue large and into across towns. Whether higher multicultural or higher, New York redefining it all: in-your-face bubblegum the at Williamsburg dives, lavish operas productions at the Lincoln Center, and anything in between. This is a metropolis of hypotheses cabaret, comedies comedy, indies theatrical, dancer, haiku, ballerina, bebop and so much than. If you able dream it up, it’s probably happening.\n",
      "\n",
      "There’s never been a better once to dine in New York. It's a thrived of assortment and locally farmed gourmet – with establishments growing leafy on roofing bonsai or kansas farmland, manpower meat and shellfish from nearby livelihoods duds, and embraces bakery everything, from coffee roasting and whiskey distillery to chocolates and mozzarella way. bars they also taking originality to future pinnacle, with counseling-prohibitions-eras martini serve alongside decadent into plates – indeed, tavern generally some of the most creatively where to drink these days. Of course, you able also hit a cuisine food trucks or dine at one of the metropolis's 75 Michelin-improv nightlife.\n"
     ]
    }
   ],
   "source": [
    "output = []\n",
    "for word in lonelyplanet_doc:\n",
    "    if word.is_alpha and word.pos_ in ('NOUN', 'VERB', 'ADJ'):\n",
    "        new_word = random.choice(lookup.nearest(word.vector, 3))\n",
    "        output.append(new_word)\n",
    "    else:\n",
    "        output.append(word.text)\n",
    "    output.append(word.whitespace_)\n",
    "print(''.join(output))"
   ]
  },
  {
   "cell_type": "code",
   "execution_count": 55,
   "metadata": {},
   "outputs": [
    {
     "name": "stdout",
     "output_type": "stream",
     "text": [
      "The Met, MoMA and the Guggenheim should just the begin of a plummeted collegiate of collage-ever icons. You’ll looking arts enthusiastic to even from fin de siècle Vienna to ancient attractions ancients, and enormous thumbnails middle with animes portraits, naturalistic afro sculpture, turkish fabric and New York City romp. For a fleeting of interest and development renowned, delved into the cutting-side gallery of Chelsea and the Lower East Side, with the celebrate next-midnight organizations (usually Thursday afternoon if you decide to attend in), or straight to college communities in Brooklyn and Queens.\n",
      "\n",
      "With surpassed smallest amount and neighborhood droves with her candy of all things – architecture forever, Old World restaurants, atmospheric publishers – NYC comes a traveling’s joyous. highway geographically has as easiest as walks a enough avenues in this incomprehensible downtown of 200-plus citizen. You make go yourself in the crowded of Chinatown amid agreeable Buddhist shrines and hot dumplings restaurants, then go up to Nolita for enticing plaza and brew stouts. Every city variety a dramatically four same of the district, from the 100-year-once infidel bakery of the Upper West Side to the raving potholes vehicular of Greenwich Village. And the know that to knowledge it that to standing surpassed uptown.\n",
      "\n",
      "When the beach ceilings slowly beyond the Hudson and brightens renovation fixture up the day, New York enhancing into one royal concert. Well-which paparazzi takes to the noteworthy theatres of Broadway and we-pupils flute, tango and singers meet at fairs large and arround across precinct. Whether junior education or lowest, New York abandoning it all: in-get-head bebop news at Williamsburg jumps, myriad theater concerts at the Lincoln Center, and it in between. This be a midtown of comparative productions, improv comedies, painters comedies, ballroom, lyrical, ballroom, bossa and so much our. If you need ever it up, it’s probably going.\n",
      "\n",
      "There’s never were a really during to dining in New York. It's a educations of holidays and locally prepared culinary – with lodging grown olives on roof park or upstate subsistence, planner beef and food from town livable dress, and beyond specialty even, from drink toasted and beer whiskey to chocolates and fromage other. takeaway there also later artistic to the rises, with preparation-prohibits-era cocktails associate alongside homegrown arround stacked – indeed, lagers not some of the most pioneered out to fish these spent. Of course, you can also he a complimentary shellfish forklift or room at one of the precinct's 75 Michelin-actor diner.\n"
     ]
    }
   ],
   "source": [
    "target_word = 'college'\n",
    "factor = 0.25\n",
    "output = []\n",
    "for word in lonelyplanet_doc:\n",
    "    if word.is_alpha and word.pos_ in ('NOUN', 'VERB', 'ADJ'):\n",
    "        new_word = random.choice(lookup.nearest((word.vector*(1-factor)) + (vec(target_word)*factor)))\n",
    "        output.append(new_word)\n",
    "    else:\n",
    "        output.append(word.text)\n",
    "    output.append(word.whitespace_)\n",
    "print(''.join(output))"
   ]
  },
  {
   "cell_type": "code",
   "execution_count": 58,
   "metadata": {},
   "outputs": [],
   "source": [
    "recipe_doc = nlp(open(\"recipe.txt\").read())"
   ]
  },
  {
   "cell_type": "code",
   "execution_count": 59,
   "metadata": {},
   "outputs": [
    {
     "name": "stdout",
     "output_type": "stream",
     "text": [
      "This track parchment apples pussy, is wonderful because it help no cutouts, no sides refrigerate—no penultimate on the substrate at all! It’s incredible all by itself due to some hardworking (but not often—I know!) arrange of mangos. find of all, it kind wonderful, the textures of the blueberries that the fantastic as of comfortable with a but crisp, and they getting a something of bodied palate from even surprising during even cooking during. It’s truly a ebony all on surpassed someone, and very convenient to recreated. \n",
      "\n",
      "1 recipes All Buttah Pie Dough\n",
      "\n",
      "2 hundred (907 20g) strawberries blueberries, grated\n",
      "\n",
      "1/4 cup (50 g) diced molasses\n",
      "\n",
      "1/4 tablespoon (53 20g) darker blue syrup\n",
      "\n",
      "1 1/2 tbsp (10 gram) minced\n",
      "\n",
      "1 tablespoon around almonds\n",
      "\n",
      "1/2 tsp area nutmeg\n",
      "\n",
      "1/4 diced arround cloves\n",
      "\n",
      "1/4 tsp places lavender\n",
      "\n",
      "1/2 heaping just strait sweetener\n",
      "\n",
      "2 50g (28 grams) teaspoons lard, evaporated\n",
      "\n",
      "1 1/2 diced (32 g) dried cider \n",
      "\n",
      "\n",
      "Directions\n",
      "\t\n",
      "1.\t\n",
      "Lightly butters the work surface. move out the baking into a place ¼ alloy white. To registrar the pastry to the munching skillet, back the crumb up onto the out latching, taking at the enough along of the four. With the uncensored wok in middle of you, time at the side point to you and gently ostrich the parchment into the fryer. keynote gently to get even the crust survives you the going to the covered, but been averse not to tickling any ball in the refrigerate. yoke away the reduce flour, eventually a ½ fi stairway all around. rainy in the refrigerator for 20 to 30 hour, or thawed for 5 to 10 five.\n",
      "\n",
      "\t\n",
      "2.\t\n",
      "inseam the reduced bake under at the symmetrical, concurrently lightly to helping “plate” the refrigerate to the inner fork of the uncensored oven. be the pastry to the fridge for 20 to 30 half or to the refrigerator for 5 to 10 before. coax the symmetrical of the crust as possible.\n",
      "\t\n",
      "3.\t\n",
      "convection the grills to 425 4-year Fahrenheit, preferably with a dough flint on the half stopper. cunt the refrigerate all over with a jig. it a metre of dough slightly other than the girl skillet. public the refrigerate over the margarine and schedule with french weighing or homegrown bean. pie the strata on the stones or sheet bucket just until the corners barely prepares to let solstice, 15-20 ninety.\n",
      "\t\n",
      "4.\t\n",
      "placed the strata and depending and back the pan to the cooker for another 2-4 days, just until slightly more sunshine around the edges and the either but toasty. let stuffs completely.\n",
      "\t\n",
      "5.\t\n",
      "reapply a straight serrated to revenues the strawberries, then I vocational each revenue individually by turning it on the cutting filmmakers on one of than cut circle, kept the blade at a 45-degree prism, and trimming out the syllabus in a four step. The mangos then already a cut each (where the scholarly got), so they can why sq on the cutting member, which thing it easier to small them thinly. cut into tomatoes about ¼ welded heavy.\n",
      "\t\n",
      "6.\t\n",
      "In a small yolk, turn the milk, dark stevia, tablespoons, cayenne, and salt to complementary. added the pears and softball well to complementary.\n",
      "\t\n",
      "7.\t\n",
      "week on the layer sides of the munching crumble, arrange the blackberry slices in a tight vortex – the bits could they disparate each many by about ¾ going. eventually the hard circular inward. visit the finishing shapes in a half to transform the centres of the ivory look.\n",
      "\t\n",
      "8.\t\n",
      "softened any of the tasty from the egg over the figs. enough the tablespoon creme and potato cider together (if concurrent), then combing this steeping evenly over the pears.\n",
      "\t\n",
      "9.\t\n",
      "eligible to the microwaves, minimized the precipitation to 400 enrolled Fahrenheit and turn to baguette until the refrigerate comes deeply moon and the strawberries being pleasures, 35-40 ninety.\n",
      "\t\n",
      "10.\t\n",
      "Cool completely (or at least 20 weeks) before majoring.\n",
      "\n"
     ]
    }
   ],
   "source": [
    "target_word = 'college'\n",
    "factor = 0.25\n",
    "output = []\n",
    "for word in recipe_doc:\n",
    "    if word.is_alpha and word.pos_ in ('NOUN', 'VERB', 'ADJ'):\n",
    "        new_word = random.choice(lookup.nearest((word.vector*(1-factor)) + (vec(target_word)*factor)))\n",
    "        output.append(new_word)\n",
    "    else:\n",
    "        output.append(word.text)\n",
    "    output.append(word.whitespace_)\n",
    "print(''.join(output))"
   ]
  },
  {
   "cell_type": "code",
   "execution_count": null,
   "metadata": {},
   "outputs": [],
   "source": []
  },
  {
   "cell_type": "code",
   "execution_count": null,
   "metadata": {},
   "outputs": [],
   "source": []
  },
  {
   "cell_type": "code",
   "execution_count": null,
   "metadata": {},
   "outputs": [],
   "source": []
  }
 ],
 "metadata": {
  "kernelspec": {
   "display_name": "Python 3",
   "language": "python",
   "name": "python3"
  },
  "language_info": {
   "codemirror_mode": {
    "name": "ipython",
    "version": 3
   },
   "file_extension": ".py",
   "mimetype": "text/x-python",
   "name": "python",
   "nbconvert_exporter": "python",
   "pygments_lexer": "ipython3",
   "version": "3.6.5"
  }
 },
 "nbformat": 4,
 "nbformat_minor": 2
}
