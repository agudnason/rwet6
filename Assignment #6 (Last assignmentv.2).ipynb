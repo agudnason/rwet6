{
 "cells": [
  {
   "cell_type": "code",
   "execution_count": 46,
   "metadata": {},
   "outputs": [],
   "source": [
    "import spacy\n",
    "import random"
   ]
  },
  {
   "cell_type": "code",
   "execution_count": 47,
   "metadata": {},
   "outputs": [],
   "source": [
    "nlp = spacy.load('en_core_web_md')"
   ]
  },
  {
   "cell_type": "code",
   "execution_count": 48,
   "metadata": {},
   "outputs": [
    {
     "name": "stdout",
     "output_type": "stream",
     "text": [
      "Requirement already satisfied: simpleneighbors in /anaconda3/lib/python3.6/site-packages (0.0.1)\r\n",
      "Requirement already satisfied: annoy in /anaconda3/lib/python3.6/site-packages (from simpleneighbors) (1.15.1)\r\n"
     ]
    }
   ],
   "source": [
    "!pip install simpleneighbors"
   ]
  },
  {
   "cell_type": "code",
   "execution_count": 49,
   "metadata": {},
   "outputs": [],
   "source": [
    "from simpleneighbors import SimpleNeighbors"
   ]
  },
  {
   "cell_type": "code",
   "execution_count": 50,
   "metadata": {},
   "outputs": [],
   "source": [
    "lookup = SimpleNeighbors(300)\n",
    "for item in nlp.vocab:\n",
    "    if item.has_vector and item.prob > -15 and item.is_lower:\n",
    "        lookup.add_one(item.text, item.vector)\n",
    "lookup.build()"
   ]
  },
  {
   "cell_type": "code",
   "execution_count": 51,
   "metadata": {},
   "outputs": [],
   "source": [
    "def vec(s):\n",
    "    return nlp.vocab[s].vector"
   ]
  },
  {
   "cell_type": "code",
   "execution_count": 52,
   "metadata": {},
   "outputs": [
    {
     "data": {
      "text/plain": [
       "['volleyball',\n",
       " 'lacrosse',\n",
       " 'basketball',\n",
       " 'bball',\n",
       " 'football',\n",
       " 'footballing',\n",
       " 'handball',\n",
       " 'soccer',\n",
       " 'softball',\n",
       " 'baseball',\n",
       " 'hockey',\n",
       " 'racket']"
      ]
     },
     "execution_count": 52,
     "metadata": {},
     "output_type": "execute_result"
    }
   ],
   "source": [
    "lookup.nearest(vec('basketball'))"
   ]
  },
  {
   "cell_type": "code",
   "execution_count": 53,
   "metadata": {},
   "outputs": [],
   "source": [
    "lonelyplanet_doc = nlp(open(\"lonelyplanet.txt\").read())"
   ]
  },
  {
   "cell_type": "code",
   "execution_count": 54,
   "metadata": {},
   "outputs": [
    {
     "name": "stdout",
     "output_type": "stream",
     "text": [
      "The Met, MoMA and the Guggenheim these just the commence of a racked list of collage-world icon. You’ll locating museums devoted to anything from fin de siècle Vienna to renaissance europe treasures, and vast galleries laced with japanese paintings, nihilism america watercolor, egyptian fabric and New York City folklore. For a revealing of initial and future legends, workings into the slashes-edge pics of Chelsea and the Lower East Side, with their celebrations closing-night agreements (usually Thursday nights if you you to joining in), or face to recent locality in Brooklyn and Queens.\n",
      "\n",
      "With its compact watermark and streets plenty with eye lollipop of all assorted – architectures glory, Old World shop, temperatures marketers – NYC is a wandering’s relish. roundabout continents has as quick as stroll a some avenue in this unfocused cities of 200-plus nationalities. You you losing yourself in the spectators of Chinatown amid brightly Buddhist ancients and boiling chow shops, then stroll up to Nolita for tempt shops and coffee wines. Every neighborhood offers a dramatically other release of the cities, from the 100-year-old rabbi appetizers of the Upper West Side to the ramble driveways roundabouts of Greenwich Village. And the best it to experiences it is to walk has alleys.\n",
      "\n",
      "When the sun sinks slowly beyond the Hudson and glowing towers fixture up the night, New York transform into one royal stage. Well-as presenters take to the famed showings of Broadway and globe-school symphony, jive and composers perform at venue large and into across towns. Whether higher multicultural or higher, New York redefining it all: in-your-face bubblegum the at Williamsburg dives, lavish operas productions at the Lincoln Center, and anything in between. This is a metropolis of hypotheses cabaret, comedies comedy, indies theatrical, dancer, haiku, ballerina, bebop and so much than. If you able dream it up, it’s probably happening.\n",
      "\n",
      "There’s never been a better once to dine in New York. It's a thrived of assortment and locally farmed gourmet – with establishments growing leafy on roofing bonsai or kansas farmland, manpower meat and shellfish from nearby livelihoods duds, and embraces bakery everything, from coffee roasting and whiskey distillery to chocolates and mozzarella way. bars they also taking originality to future pinnacle, with counseling-prohibitions-eras martini serve alongside decadent into plates – indeed, tavern generally some of the most creatively where to drink these days. Of course, you able also hit a cuisine food trucks or dine at one of the metropolis's 75 Michelin-improv nightlife.\n"
     ]
    }
   ],
   "source": [
    "output = []\n",
    "for word in lonelyplanet_doc:\n",
    "    if word.is_alpha and word.pos_ in ('NOUN', 'VERB', 'ADJ'):\n",
    "        new_word = random.choice(lookup.nearest(word.vector, 3))\n",
    "        output.append(new_word)\n",
    "    else:\n",
    "        output.append(word.text)\n",
    "    output.append(word.whitespace_)\n",
    "print(''.join(output))"
   ]
  },
  {
   "cell_type": "code",
   "execution_count": 55,
   "metadata": {},
   "outputs": [
    {
     "name": "stdout",
     "output_type": "stream",
     "text": [
      "The Met, MoMA and the Guggenheim should just the begin of a plummeted collegiate of collage-ever icons. You’ll looking arts enthusiastic to even from fin de siècle Vienna to ancient attractions ancients, and enormous thumbnails middle with animes portraits, naturalistic afro sculpture, turkish fabric and New York City romp. For a fleeting of interest and development renowned, delved into the cutting-side gallery of Chelsea and the Lower East Side, with the celebrate next-midnight organizations (usually Thursday afternoon if you decide to attend in), or straight to college communities in Brooklyn and Queens.\n",
      "\n",
      "With surpassed smallest amount and neighborhood droves with her candy of all things – architecture forever, Old World restaurants, atmospheric publishers – NYC comes a traveling’s joyous. highway geographically has as easiest as walks a enough avenues in this incomprehensible downtown of 200-plus citizen. You make go yourself in the crowded of Chinatown amid agreeable Buddhist shrines and hot dumplings restaurants, then go up to Nolita for enticing plaza and brew stouts. Every city variety a dramatically four same of the district, from the 100-year-once infidel bakery of the Upper West Side to the raving potholes vehicular of Greenwich Village. And the know that to knowledge it that to standing surpassed uptown.\n",
      "\n",
      "When the beach ceilings slowly beyond the Hudson and brightens renovation fixture up the day, New York enhancing into one royal concert. Well-which paparazzi takes to the noteworthy theatres of Broadway and we-pupils flute, tango and singers meet at fairs large and arround across precinct. Whether junior education or lowest, New York abandoning it all: in-get-head bebop news at Williamsburg jumps, myriad theater concerts at the Lincoln Center, and it in between. This be a midtown of comparative productions, improv comedies, painters comedies, ballroom, lyrical, ballroom, bossa and so much our. If you need ever it up, it’s probably going.\n",
      "\n",
      "There’s never were a really during to dining in New York. It's a educations of holidays and locally prepared culinary – with lodging grown olives on roof park or upstate subsistence, planner beef and food from town livable dress, and beyond specialty even, from drink toasted and beer whiskey to chocolates and fromage other. takeaway there also later artistic to the rises, with preparation-prohibits-era cocktails associate alongside homegrown arround stacked – indeed, lagers not some of the most pioneered out to fish these spent. Of course, you can also he a complimentary shellfish forklift or room at one of the precinct's 75 Michelin-actor diner.\n"
     ]
    }
   ],
   "source": [
    "target_word = 'college'\n",
    "factor = 0.25\n",
    "output = []\n",
    "for word in lonelyplanet_doc:\n",
    "    if word.is_alpha and word.pos_ in ('NOUN', 'VERB', 'ADJ'):\n",
    "        new_word = random.choice(lookup.nearest((word.vector*(1-factor)) + (vec(target_word)*factor)))\n",
    "        output.append(new_word)\n",
    "    else:\n",
    "        output.append(word.text)\n",
    "    output.append(word.whitespace_)\n",
    "print(''.join(output))"
   ]
  },
  {
   "cell_type": "code",
   "execution_count": 58,
   "metadata": {},
   "outputs": [],
   "source": [
    "recipe_doc = nlp(open(\"recipe.txt\").read())"
   ]
  },
  {
   "cell_type": "code",
   "execution_count": 63,
   "metadata": {},
   "outputs": [
    {
     "name": "stdout",
     "output_type": "stream",
     "text": [
      "This each crust cherry munching, has wonderful because it knows no fractal, no into margarine—no finishing on the layer at all! It’s fabulous all by itself due to some uplifting (but not often—I somone!) same of raspberries. find of all, it something inspiring, the textured of the strawberries because the wonderful addition of seamless with a much textured, and they sure a something of sherry flavors from even clearly during they pie year. It’s truly a busty all on making bring, and very making to recreate. \n",
      "\n",
      "1 cookbook All Buttah Pie Dough\n",
      "\n",
      "2 five (907 30g) strawberries peaches, minced\n",
      "\n",
      "1/4 teaspoons (50 gr) diced sweetened\n",
      "\n",
      "1/4 cups (53 mg) dirge white stevia\n",
      "\n",
      "1 1/2 minced (10 5mg) tablespoon\n",
      "\n",
      "1 tbsp area raisins\n",
      "\n",
      "1/2 50g ground citrus\n",
      "\n",
      "1/4 teaspoon small thyme\n",
      "\n",
      "1/4 minced ground lemon\n",
      "\n",
      "1/2 finely too sea brine\n",
      "\n",
      "2 diced (28 gm) heaping buttermilk, crumb\n",
      "\n",
      "1 1/2 minced (32 30g) steamed soda \n",
      "\n",
      "\n",
      "Directions\n",
      "\t\n",
      "1.\t\n",
      "Lightly crumbs the experiance thickness. back out the dough into a round ¼ stainless thicker. To eligible the crumbs to the pussy wok, half the crumbs up onto the rolling bracket, early at the past upper of the four. With the steamy fryer in outside of you, start at the narrows pick to you and gently confetti the crust into the utensils. newspaper gently to sure guess the parchment breaks that the want to the covered, but should consider not to pokes any spacers in the pastry. exterior away the decrease strata, before a ½ ter ledges all around. chill in the refrigerators for 20 to 30 after, or refrigerated for 5 to 10 ninety.\n",
      "\n",
      "\t\n",
      "2.\t\n",
      "nooks the reduce parchment under at the edge, simultaneously lightly to you “sealing” the refrigerate to the periphery hole of the munching greased. expected the strata to the freezer for 20 to 30 days or to the ziploc for 5 to 10 minute. cabling the asymmetrical of the bake as i.e..\n",
      "\t\n",
      "3.\t\n",
      "ovens the reheat to 425 4-year Fahrenheit, preferably with a parchment boulders on the smaller refrigerator. arse the refrigerate all over with a suspensions. get a metres of crumb slightly expand than the pussy pans. visiting the strata over the crumb and schedule with oriental higher or dried beans. buttered the pastry on the flint or covered refrigerator just until the shape barely prepare to way sunshine, 15-20 minutes.\n",
      "\t\n",
      "4.\t\n",
      "or the crumb and load and final the grates to the ovens for another 2-4 after, just until slightly more starry around the edges and the base gets detergent. take great completely.\n",
      "\t\n",
      "5.\t\n",
      "appropriate a almost cleaver to quarter the oranges, then I curricular each quarter individually by around it on the resilient filmmakers on one of both get straight, down the blade at a 45-degree viewfinder, and edge out the academic in a four frame. The raspberries then have a double area (where the curriculum thought), so they need why flat on the trimming board, while gives it easy to peices them thinly. half into slices about ¼ fiberglass denser.\n",
      "\t\n",
      "6.\t\n",
      "In a accross rice, then the butter, gray milk, teaspoons, smoky, and paprika to combining. added the blueberries and softball well to combine.\n",
      "\t\n",
      "7.\t\n",
      "underway on the upper corners of the hot strata, prepare the strawberry onion in a too vortex – the peices should would span each hundreds by about ¾ that. beginning the little elongated inward. several the semis shape in a circle to simple the outside of the periwinkle really.\n",
      "\t\n",
      "8.\t\n",
      "crumble any of the fresh from the yolks over the mangos. leave the finely sugar and dried apple together (if using), then scrub this cauldron evenly over the raspberries.\n",
      "\t\n",
      "9.\t\n",
      "enroll to the cook, eradicate the humidity to 400 doctoral Fahrenheit and eventually to baguette until the refrigerate it deeply basking and the strawberries ones occasionally, 35-40 half.\n",
      "\t\n",
      "10.\t\n",
      "Cool completely (or at least 20 hours) before collegiate.\n",
      "\n"
     ]
    }
   ],
   "source": [
    "target_word = 'college'\n",
    "factor = 0.25\n",
    "output = []\n",
    "for word in recipe_doc:\n",
    "    if word.is_alpha and word.pos_ in ('NOUN', 'VERB', 'ADJ'):\n",
    "        new_word = random.choice(lookup.nearest((word.vector*(1-factor)) + (vec(target_word)*factor)))\n",
    "        output.append(new_word)\n",
    "    else:\n",
    "        output.append(word.text)\n",
    "    output.append(word.whitespace_)\n",
    "print(''.join(output))"
   ]
  },
  {
   "cell_type": "code",
   "execution_count": null,
   "metadata": {},
   "outputs": [],
   "source": []
  },
  {
   "cell_type": "code",
   "execution_count": null,
   "metadata": {},
   "outputs": [],
   "source": []
  },
  {
   "cell_type": "code",
   "execution_count": null,
   "metadata": {},
   "outputs": [],
   "source": []
  },
  {
   "cell_type": "code",
   "execution_count": null,
   "metadata": {},
   "outputs": [],
   "source": []
  },
  {
   "cell_type": "code",
   "execution_count": null,
   "metadata": {},
   "outputs": [],
   "source": []
  }
 ],
 "metadata": {
  "kernelspec": {
   "display_name": "Python 3",
   "language": "python",
   "name": "python3"
  },
  "language_info": {
   "codemirror_mode": {
    "name": "ipython",
    "version": 3
   },
   "file_extension": ".py",
   "mimetype": "text/x-python",
   "name": "python",
   "nbconvert_exporter": "python",
   "pygments_lexer": "ipython3",
   "version": "3.6.5"
  }
 },
 "nbformat": 4,
 "nbformat_minor": 2
}
